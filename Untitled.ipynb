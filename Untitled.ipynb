{
 "cells": [
  {
   "cell_type": "code",
   "execution_count": 1,
   "id": "outdoor-animal",
   "metadata": {},
   "outputs": [
    {
     "name": "stdout",
     "output_type": "stream",
     "text": [
      "Discuss your learnings on Chapter 9 Minimum of 200 characters\n",
      "\n",
      "\tFrom what I've learned in chapter nine is there are two types of graph the first one is Undirected Graph and the second one is Directed Graph\n",
      "the Undirected Graph is is like a connection. example Josh and I are friend and Josh has a friend named Cassie theres\n",
      "a posibbility that me and Cassie will be friend also a A directed graph is made up of a collection of vertices nodes connected by edges, each with its own path.\n",
      "The edges of a graph are normally represented by arrows pointing in the direction of traversal. and the Directed Paragraph is like a you start\n",
      "in a exact place and ends up in exact place too even though there are many routes you will end up in a 1 location.\n",
      "The edges of an undirected graph are bidirectional and have no associated path. As a result, the graph can be traversed both ways.\n",
      "The fact that there is no arrow indicates that the graph is undirected.\n"
     ]
    }
   ],
   "source": [
    "print (\"Discuss your learnings on Chapter 9 Minimum of 200 characters\")\n",
    "\n",
    "print (\"\"\"\\n\\tFrom what I've learned in chapter nine is there are two types of graph the first one is Undirected Graph and the second one is Directed Graph\n",
    "the Undirected Graph is is like a connection. example Josh and I are friend and Josh has a friend named Cassie theres\n",
    "a posibbility that me and Cassie will be friend also a A directed graph is made up of a collection of vertices nodes connected by edges, each with its own path.\n",
    "The edges of a graph are normally represented by arrows pointing in the direction of traversal. and the Directed Paragraph is like a you start\n",
    "in a exact place and ends up in exact place too even though there are many routes you will end up in a 1 location.\n",
    "The edges of an undirected graph are bidirectional and have no associated path. As a result, the graph can be traversed both ways.\n",
    "The fact that there is no arrow indicates that the graph is undirected.\"\"\")"
   ]
  },
  {
   "cell_type": "code",
   "execution_count": 1,
   "id": "conscious-strategy",
   "metadata": {},
   "outputs": [
    {
     "name": "stdout",
     "output_type": "stream",
     "text": [
      "Discuss your learnings on Chapter 10 Minimum of 200 characters\n",
      "\n",
      "\t From what i've learned in chapter ten is there are two types of Search which is the Linear Search and the Binary Search\n",
      "Binary Search is one of the fastest searching algorithms and it is used for finding the location of an element in a linear array.\n",
      "It also works on the principle of divide and conquer technique. Binary Search Algorithm can be applied only on Sorted arrays.\n",
      "So, the elements must be arranged in either ascending order if the elements are numbers or dictionary order if the elements are strings.\n",
      "In a linear search, the elements don't need to be arranged in sorted order. It is based on the sequential approach and t is preferrable for the small-sized data sets\n",
      "\n",
      " \n"
     ]
    }
   ],
   "source": [
    "print (\"Discuss your learnings on Chapter 10 Minimum of 200 characters\")\n",
    "\n",
    "print (\"\"\"\\n\\tFrom what i've learned in chapter ten is there are two types of Search which is the Linear Search and the Binary Search\n",
    "Binary Search is one of the fastest searching algorithms and it is used for finding the location of an element in a linear array.\n",
    "It also works on the principle of divide and conquer technique. Binary Search Algorithm can be applied only on Sorted arrays.\n",
    "So, the elements must be arranged in either ascending order if the elements are numbers or dictionary order if the elements are strings.\n",
    "In a linear search, the elements don't need to be arranged in sorted order. It is based on the sequential approach and t is preferrable for the small-sized data sets\n",
    "\n",
    " \"\"\")"
   ]
  },
  {
   "cell_type": "code",
   "execution_count": 2,
   "id": "secondary-roller",
   "metadata": {},
   "outputs": [
    {
     "name": "stdout",
     "output_type": "stream",
     "text": [
      "Discuss your learnings on Chapter 11 Minimum of 200 characters\n",
      "\n",
      "\t From what i've learned in chapter Eleven is Bubble Sort is a simple algorithm for sorting a collection of n elements \n",
      "that is provided in the form of an array of n elements. Bubble Sort compares each variable individually and sorts them according to their values.\n",
      "If the given array must be sorted in ascending order, bubble sort will begin by comparing the first and second elements of the array, \n",
      "swapping both elements if the first element is greater than the second, and then moving on to compare the second and third elements, and so on.\n"
     ]
    }
   ],
   "source": [
    "print (\"Discuss your learnings on Chapter 11 Minimum of 200 characters\")\n",
    "\n",
    "print (\"\"\"\\n\\tFrom what i've learned in chapter Eleven is Bubble Sort is a simple algorithm for sorting a collection of n elements \n",
    "that is provided in the form of an array of n elements. Bubble Sort compares each variable individually and sorts them according to their values.\n",
    "If the given array must be sorted in ascending order, bubble sort will begin by comparing the first and second elements of the array, \n",
    "swapping both elements if the first element is greater than the second, and then moving on to compare the second and third elements, and so on.\"\"\") "
   ]
  },
  {
   "cell_type": "code",
   "execution_count": 3,
   "id": "choice-sacrifice",
   "metadata": {},
   "outputs": [
    {
     "name": "stdout",
     "output_type": "stream",
     "text": [
      "Discuss your learnings on Chapter 12 Minimum of 200 characters\n",
      "\n",
      "\tFrom what i've learned in chapter Twelve is Quick sort is a highly efficient sorting algorithm that divides\n",
      "a large data array into smaller ones. A large array is divided into two arrays, one of which contains values smaller than the\n",
      "stated value, say pivot, on which the partition is centered, and the other of which contains values greater than the pivot value.\n",
      "Overall Quick Sort is an important concept to understand when it comes to algorithms.Quick Sort is a widely used sorting algorithm\n",
      "in computer science. Fast Sort employs a divide-and-conquer strategy. It makes two empty arrays to hold elements less than the pivot\n",
      "value and elements greater than the pivot value, then sorts the sub arrays. Overall Quick Sort is an important concept \n",
      "to understand when it comes to algorithms\n"
     ]
    }
   ],
   "source": [
    "print (\"Discuss your learnings on Chapter 12 Minimum of 200 characters\")\n",
    "\n",
    "print (\"\"\"\\n\\tFrom what i've learned in chapter Twelve is Quick sort is a highly efficient sorting algorithm that divides\n",
    "a large data array into smaller ones. A large array is divided into two arrays, one of which contains values smaller than the\n",
    "stated value, say pivot, on which the partition is centered, and the other of which contains values greater than the pivot value.\n",
    "Overall Quick Sort is an important concept to understand when it comes to algorithms.Quick Sort is a widely used sorting algorithm\n",
    "in computer science. Fast Sort employs a divide-and-conquer strategy. It makes two empty arrays to hold elements less than the pivot\n",
    "value and elements greater than the pivot value, then sorts the sub arrays. Overall Quick Sort is an important concept \n",
    "to understand when it comes to algorithms\"\"\")"
   ]
  },
  {
   "cell_type": "code",
   "execution_count": 6,
   "id": "configured-jesus",
   "metadata": {},
   "outputs": [
    {
     "name": "stdout",
     "output_type": "stream",
     "text": [
      "Discuss your learnings on Chapter 13 Minimum of 200 characters\n",
      "\n",
      "\tFrom what i've learned in chapter Thirteen is Assume you have 10 cards in your hand from a deck of 52. \n",
      "They're often sorted, or ordered, in ascending numerical order.If I hand you another card and instruct you to place \n",
      "it in the exact right spot so that the cards in your hand remain sorted. What will you do? So, you'll have to go through\n",
      "each card, starting at the top and working your way down, to find the best spot for the new card, based on its worth in \n",
      "relation to the others. You'll place the card there until you've found the ideal location.If you receive additional new cards,\n",
      "you can simply replicate the procedure and insert the new cards while keeping the cards sorted. Overall Insertion Sort is an \n",
      "important concept to understand when it comes to algorithms\n"
     ]
    }
   ],
   "source": [
    "print (\"Discuss your learnings on Chapter 13 Minimum of 200 characters\")\n",
    "\n",
    "print (\"\"\"\\n\\tFrom what i've learned in chapter Thirteen is Assume you have 10 cards in your hand from a deck of 52. \n",
    "They're often sorted, or ordered, in ascending numerical order.If I hand you another card and instruct you to place \n",
    "it in the exact right spot so that the cards in your hand remain sorted. What will you do? So, you'll have to go through\n",
    "each card, starting at the top and working your way down, to find the best spot for the new card, based on its worth in \n",
    "relation to the others. You'll place the card there until you've found the ideal location.If you receive additional new cards,\n",
    "you can simply replicate the procedure and insert the new cards while keeping the cards sorted. Overall Insertion Sort is an \n",
    "important concept to understand when it comes to algorithms\"\"\") "
   ]
  },
  {
   "cell_type": "code",
   "execution_count": 2,
   "id": "ranging-policy",
   "metadata": {},
   "outputs": [
    {
     "name": "stdout",
     "output_type": "stream",
     "text": [
      "Discuss your learnings on Chapter 14 Minimum of 200 characters\n",
      "\n",
      "\tFrom what i've learned in chapter Fourteen is Merge Sort is a common sorting algorithm in computer science.\n",
      "Merge Sort is a divide-and-conquer approach to sorting. It functions by breaking down a problem into two or more sub-problems \n",
      "of the same or similar kind until they are clear enough to be solved directly. The sub-problems' solutions are then combined \n",
      "to produce a solution to the original problem. If it is only one element in the list it is already sorted, return. Divide the\n",
      "list recursively into two halves until it can no more be divided. Merge the smaller lists into new list in sorted order.Every \n",
      "recursive algorithm is dependent on a base case and the ability to combine the results from base cases. Merge sort is no different. \n",
      "The most important part of the merge sort algorithm is, you guessed it, merge step.\n"
     ]
    }
   ],
   "source": [
    "print (\"Discuss your learnings on Chapter 14 Minimum of 200 characters\")\n",
    "\n",
    "print (\"\"\"\\n\\tFrom what i've learned in chapter Fourteen is Merge Sort is a common sorting algorithm in computer science.\n",
    "Merge Sort is a divide-and-conquer approach to sorting. It functions by breaking down a problem into two or more sub-problems \n",
    "of the same or similar kind until they are clear enough to be solved directly. The sub-problems' solutions are then combined \n",
    "to produce a solution to the original problem. If it is only one element in the list it is already sorted, return. Divide the\n",
    "list recursively into two halves until it can no more be divided. Merge the smaller lists into new list in sorted order.Every \n",
    "recursive algorithm is dependent on a base case and the ability to combine the results from base cases. Merge sort is no different. \n",
    "The most important part of the merge sort algorithm is, you guessed it, merge step.\"\"\") "
   ]
  },
  {
   "cell_type": "code",
   "execution_count": 3,
   "id": "cubic-transsexual",
   "metadata": {},
   "outputs": [
    {
     "name": "stdout",
     "output_type": "stream",
     "text": [
      "Discuss your learnings on Chapter 15 Minimum of 200 characters\n",
      "\n",
      "\tFrom what i've learned in chapter Fifteen is Shell sort is a sorting algorithm that is based on the insertion\n",
      "sort algorithm and is very efficient. When the smaller value is on the far right and must be shifted to the far left, this \n",
      "algorithm prevents massive shifts as in insertion sort.This algorithm sorts widely spaced elements first, then sorts the less\n",
      "widely spaced elements using insertion sort. The expression \"interval\" refers to the distance between two points. In shell sort\n",
      "Shell sort sorts components at a predetermined interval. Dependent on the sequence used, the time between the elements steadily\n",
      "decreases. The shell sort's output is determined by the kind of sequence used for a given input string.\n"
     ]
    }
   ],
   "source": [
    "print (\"Discuss your learnings on Chapter 15 Minimum of 200 characters\")\n",
    "\n",
    "print (\"\"\"\\n\\tFrom what i've learned in chapter Fifteen is Shell sort is a sorting algorithm that is based on the insertion\n",
    "sort algorithm and is very efficient. When the smaller value is on the far right and must be shifted to the far left, this \n",
    "algorithm prevents massive shifts as in insertion sort.This algorithm sorts widely spaced elements first, then sorts the less\n",
    "widely spaced elements using insertion sort. The expression \"interval\" refers to the distance between two points. In shell sort\n",
    "Shell sort sorts components at a predetermined interval. Dependent on the sequence used, the time between the elements steadily\n",
    "decreases. The shell sort's output is determined by the kind of sequence used for a given input string.\"\"\") "
   ]
  },
  {
   "cell_type": "code",
   "execution_count": 4,
   "id": "champion-veteran",
   "metadata": {},
   "outputs": [
    {
     "name": "stdout",
     "output_type": "stream",
     "text": [
      "Discuss your learnings on Chapter 16 Minimum of 200 characters\n",
      "\n",
      "\tFrom what i've learned in chapter Sixteen a selection sort algorithm is selection sort. This sorting algorithm is\n",
      "based on in-place comparison and divides the list into two parts: the sorted part on the left end and the unsorted part on the\n",
      "right. The sorted part is initially incomplete, while the unsorted part contains the whole array. Unsorted array's smallest \n",
      "element is chosen and substituted with the leftmost element, resulting in that element being a part of the sorted array. \n",
      "This method proceeds to move the unsorted array boundary to the right by one.\n"
     ]
    }
   ],
   "source": [
    "print (\"Discuss your learnings on Chapter 16 Minimum of 200 characters\")\n",
    "\n",
    "print (\"\"\"\\n\\tFrom what i've learned in chapter Sixteen a selection sort algorithm is selection sort. This sorting algorithm is\n",
    "based on in-place comparison and divides the list into two parts: the sorted part on the left end and the unsorted part on the\n",
    "right. The sorted part is initially incomplete, while the unsorted part contains the whole array. Unsorted array's smallest \n",
    "element is chosen and substituted with the leftmost element, resulting in that element being a part of the sorted array. \n",
    "This method proceeds to move the unsorted array boundary to the right by one.\"\"\") "
   ]
  },
  {
   "cell_type": "code",
   "execution_count": 1,
   "id": "popular-times",
   "metadata": {},
   "outputs": [
    {
     "name": "stdout",
     "output_type": "stream",
     "text": [
      "Discuss your learnings on Chapter 17 Minimum of 200 characters\n",
      "\n",
      "\tFrom what i've learned in chapter Seventeen is The method of describing everything in terms of itself is known as\n",
      "recursion. Place two parallel mirrors facing each other in the real world as an example. Every object between them will be \n",
      "recursively mirrored. Let's look at the formal concept of a recursive function now that we have a better understanding of \n",
      "recursion. A recursive function is one that is described by self-referential expressions in terms of itself. This means that \n",
      "the feature will keep calling itself and repeating its actions until a condition is reached that causes it to return a response.\n"
     ]
    }
   ],
   "source": [
    "print (\"Discuss your learnings on Chapter 17 Minimum of 200 characters\")\n",
    "\n",
    "print (\"\"\"\\n\\tFrom what i've learned in chapter Seventeen is The method of describing everything in terms of itself is known as\n",
    "recursion. Place two parallel mirrors facing each other in the real world as an example. Every object between them will be \n",
    "recursively mirrored. Let's look at the formal concept of a recursive function now that we have a better understanding of \n",
    "recursion. A recursive function is one that is described by self-referential expressions in terms of itself. This means that \n",
    "the feature will keep calling itself and repeating its actions until a condition is reached that causes it to return a response.\"\"\")"
   ]
  },
  {
   "cell_type": "code",
   "execution_count": 3,
   "id": "distributed-avenue",
   "metadata": {},
   "outputs": [
    {
     "name": "stdout",
     "output_type": "stream",
     "text": [
      "1. Implement the simple methods get_num and get_den that will return the numerator and denominator of a fraction.\n",
      "\n",
      "3/4\n",
      "3\n",
      "4\n"
     ]
    }
   ],
   "source": [
    "\n",
    "print (\"\"\"1. Implement the simple methods get_num and get_den that will return the numerator and denominator of a fraction.\n",
    "\"\"\")\n",
    "class Fraction:\n",
    "\n",
    "    def __init__(self, top, bottom):\n",
    "\n",
    "        self.num = top        # the numerator is on top\n",
    "        self.den = bottom     # the denominator is on the bottom\n",
    "\n",
    "    def __str__(self):\n",
    "        return str(self.num) + \"/\" + str(self.den)\n",
    "\n",
    "    def getNum(self):\n",
    "        return self.num\n",
    "\n",
    "    def getDen(self):\n",
    "        return self.den\n",
    "\n",
    "myfraction = Fraction(3, 4)\n",
    "print(myfraction)\n",
    "\n",
    "print(myfraction.getNum())\n",
    "print(myfraction.getDen())"
   ]
  },
  {
   "cell_type": "code",
   "execution_count": 1,
   "id": "intimate-contest",
   "metadata": {},
   "outputs": [
    {
     "name": "stdout",
     "output_type": "stream",
     "text": [
      "\n",
      "Research the __radd__ method. How does it differ from __add__? When is it used? Implement __radd__\n",
      "\n",
      "__add__ is to take an input string and then return an instance which contains the data and concatenate it while __radd__ adds the string first then the user-defined class comes next to it.\n",
      "\n",
      "<__main__.Upper object at 0x000001A75AC08220>\n"
     ]
    }
   ],
   "source": [
    "print(\"\")\n",
    "print(\"Research the __radd__ method. How does it differ from __add__? When is it used? Implement __radd__\")\n",
    "print(\"\")\n",
    "\n",
    "print(\"__add__ is to take an input string and then return an instance which contains the data and concatenate it while __radd__ adds the string first then the user-defined class comes next to it.\")\n",
    "print(\"\")\n",
    "class Upper:\n",
    "    def __init__(self, initial):\n",
    "        self.data = initial.upper()\n",
    "    def __add__(self,other):\n",
    "        return Upper(self.data + other)\n",
    "\n",
    "u = Upper('Octa')\n",
    "\n",
    "a = u+\"Hey\" \n",
    "\n",
    "print(a)\n",
    "\n",
    "\n"
   ]
  },
  {
   "cell_type": "code",
   "execution_count": 8,
   "id": "acknowledged-college",
   "metadata": {},
   "outputs": [
    {
     "name": "stdout",
     "output_type": "stream",
     "text": [
      "3. To put it simply: __str__ is used in to show a string representation of your object to be read easily by others.\n",
      "       __repr__ is used to show a string representation of the object.\n",
      "Implement __repr__: \n"
     ]
    },
    {
     "data": {
      "text/plain": [
       "\"'red'\""
      ]
     },
     "execution_count": 8,
     "metadata": {},
     "output_type": "execute_result"
    }
   ],
   "source": [
    "print (\"\"\"3. To put it simply: __str__ is used in to show a string representation of your object to be read easily by others.\n",
    "       __repr__ is used to show a string representation of the object.\"\"\")\n",
    "\n",
    "print (\"Implement __repr__: \")\n",
    "class Color:\n",
    "    color = 'red'\n",
    "    def __repr__(self):\n",
    "        return repr(self.color)\n",
    "r = Color()\n",
    "repr(r)"
   ]
  },
  {
   "cell_type": "code",
   "execution_count": 2,
   "id": "first-secretariat",
   "metadata": {},
   "outputs": [
    {
     "name": "stdout",
     "output_type": "stream",
     "text": [
      "4. The most simple arithmetic circuit is known as Half adder\n",
      "Implement this circuit.\n",
      "Half adder is a combinational circuit, which performs the addition of two binary numbers\n",
      "      A and B are of single bit. It produces two outputs sum, S & carry, C.\n",
      "Implement this circuit: \n",
      "Sum is:  15\n",
      "Carry is:  0\n"
     ]
    }
   ],
   "source": [
    "print (\"4. The most simple arithmetic circuit is known as Half adder\")\n",
    "print (\"Implement this circuit.\")\n",
    "\n",
    "print(\"\"\"Half adder is a combinational circuit, which performs the addition of two binary numbers\n",
    "      A and B are of single bit. It produces two outputs sum, S & carry, C.\"\"\")\n",
    "\n",
    "print(\"Implement this circuit: \")\n",
    "def Result (A, B):\n",
    "    Sum = A ^ B\n",
    "    Carry = A & B\n",
    "    \n",
    "    print (\"Sum is: \", Sum)\n",
    "    print (\"Carry is: \", Carry)\n",
    "A = 10\n",
    "B = 5\n",
    "\n",
    "Result(A,B)"
   ]
  },
  {
   "cell_type": "code",
   "execution_count": 3,
   "id": "modern-philip",
   "metadata": {},
   "outputs": [
    {
     "name": "stdout",
     "output_type": "stream",
     "text": [
      "\n",
      "Design a class to represent a playing card and another one to represent a deck of cards. Using these two classes, implement your favorite card game.\n",
      "\n"
     ]
    }
   ],
   "source": [
    "print(\"\")\n",
    "print(\"Design a class to represent a playing card and another one to represent a deck of cards. Using these two classes, implement your favorite card game.\")\n",
    "print(\"\")\n",
    "class Card(object):\n",
    "    \"\"\" Represents a standard playing card.\n",
    "    Attributes:\n",
    "        suit: Integer 0-3\n",
    "        rank: Integer 1-13\n",
    "    \"\"\"\n",
    "\n",
    "    suit_names = [\"Clubs\", \"Diamonds\", \"Hearts\", \"Spades\"]\n",
    "    rank_names = [None, \"2\", \"4\", \"6\", \"8\", \"5\", \"7\", \"3\",\n",
    "                  \"9\", \"10\", \"Jack\", \"Queen\", \"King\", \"Ace\"]\n",
    "\n",
    "    def __init__(self, suit=0, rank=1):\n",
    "        self.suit = suit\n",
    "        self.rank = rank\n",
    "\n",
    "    def __str__(self):\n",
    "        \"\"\" returns a human readable string representation \"\"\"\n",
    "        return '%s of %s' % (Card.rank_names[self.rank],\n",
    "                             Card.suit_names[self.suit])\n",
    "\n",
    "    def __lt__(self, other):\n",
    "        \"\"\" Compares this card to other, only by rank (no suit comparison)\n",
    "        Returns a positive number if this > other, negative otherwise.\n",
    "        Returns 0 if the cards are of same rank\n",
    "        \"\"\"\n",
    "        # t1 = self.rank\n",
    "        # t2 = other.rank\n",
    "        t1 = self.suit, self.rank\n",
    "        t2 = other.suit, other.rank\n",
    "        return t1 < t2\n",
    "\n",
    "    def getRank(self):\n",
    "        return self.rank"
   ]
  },
  {
   "cell_type": "code",
   "execution_count": 5,
   "id": "cloudy-trout",
   "metadata": {},
   "outputs": [
    {
     "name": "stdout",
     "output_type": "stream",
     "text": [
      "\n",
      "Design and implement an experiment to do benchmark comparisons of the two queue(enqueue,dequeue) implementations. What can you learn from such an experiment?\n",
      "\n",
      "<__main__.Queue object at 0x000001A75AC89B50>\n",
      "deque(['Garry', 'Fred', 'Jake'])\n",
      "Adding to the right: \n",
      "deque(['Garry', 'Fred', 'Jake', 'Ginny'])\n",
      "Adding to the left: \n",
      "deque(['Fred', 'Garry', 'Fred', 'Jake', 'Ginny'])\n",
      "Removing from the right: \n",
      "deque(['Fred', 'Garry', 'Fred', 'Jake'])\n",
      "Removing from the left: \n",
      "deque(['Garry', 'Fred', 'Jake'])\n",
      "Reversing the deque: \n",
      "deque(['Jake', 'Fred', 'Garry'])\n"
     ]
    }
   ],
   "source": [
    "print(\"\")\n",
    "print(\"Design and implement an experiment to do benchmark comparisons of the two queue(enqueue,dequeue) implementations. What can you learn from such an experiment?\")\n",
    "print(\"\")\n",
    "class Queue:\n",
    " \n",
    "  def __init__(self):\n",
    "      self.queue = list()\n",
    " \n",
    "  def addToQueue(self,value):\n",
    "# Insert method to add element\n",
    "      if value not in self.queue:\n",
    "          self.queue.insert(0,value)\n",
    "          return True\n",
    "      return False\n",
    " \n",
    "  def size(self):\n",
    "      return len(self.queue)\n",
    " \n",
    "MySuperHero = Queue()\n",
    "MySuperHero.addToQueue(\"Captain America\")\n",
    "MySuperHero.addToQueue(\"Iron man\")\n",
    "MySuperHero.addToQueue(\"Thor\")\n",
    "MySuperHero.addToQueue(\"Doctor Strange\")\n",
    "MySuperHero.addToQueue(\"Spider Man\")\n",
    "print(MySuperHero)\n",
    "\n",
    "import collections\n",
    "DoubleEnded = collections.deque([\"Garry\",\"Fred\",\"Jake\"])\n",
    "print (DoubleEnded)\n",
    "print(\"Adding to the right: \")\n",
    "DoubleEnded.append(\"Ginny\")\n",
    "print (DoubleEnded)\n",
    " \n",
    "# append to the left\n",
    "print(\"Adding to the left: \")\n",
    "DoubleEnded.appendleft(\"Fred\")\n",
    "print (DoubleEnded)\n",
    " \n",
    "# Remove from the right\n",
    "print(\"Removing from the right: \")\n",
    "DoubleEnded.pop()\n",
    "print (DoubleEnded)\n",
    " \n",
    "# Remove from the left\n",
    "print(\"Removing from the left: \")\n",
    "DoubleEnded.popleft()\n",
    "print (DoubleEnded)\n",
    " \n",
    "# Reverse the dequeue\n",
    "print(\"Reversing the deque: \")\n",
    "DoubleEnded.reverse()\n",
    "print (DoubleEnded)\n",
    "\n"
   ]
  },
  {
   "cell_type": "code",
   "execution_count": 6,
   "id": "pressing-bishop",
   "metadata": {},
   "outputs": [
    {
     "name": "stdout",
     "output_type": "stream",
     "text": [
      "\n",
      "Consider a real life situation. Formulate a question and then design a simulation that can help to answer it.\n",
      "\n",
      "Road incidents. How to minimize road incidents?\n",
      "• Avoiding over-speeding and following speed limits.\n",
      "• Avoiding drunken driving.\n",
      "• Using helmets by two-wheeler drivers.\n",
      "• Using seat belts and child restraints in cars.\n",
      "• Improving visibility, appropriate headlights and road lightings.\n",
      "• Discipline  \n"
     ]
    }
   ],
   "source": [
    "print(\"\")\n",
    "print(\"Consider a real life situation. Formulate a question and then design a simulation that can help to answer it.\")\n",
    "print(\"\")\n",
    "print(\"Road incidents. How to minimize road incidents?\")\n",
    "print(\"• Avoiding over-speeding and following speed limits.\")\n",
    "print(\"• Avoiding drunken driving.\")\n",
    "print(\"• Using helmets by two-wheeler drivers.\")\n",
    "print(\"• Using seat belts and child restraints in cars.\")\n",
    "print(\"• Improving visibility, appropriate headlights and road lightings.\")\n",
    "print(\"• Discipline  \")"
   ]
  },
  {
   "cell_type": "code",
   "execution_count": 11,
   "id": "linear-effects",
   "metadata": {},
   "outputs": [
    {
     "name": "stdout",
     "output_type": "stream",
     "text": [
      "\n",
      "Implement a queue using linked lists.\n",
      "\n",
      "['Client', 'John', 'Subibi', 'Berondo', 'Four']\n",
      "Client\n",
      "['John', 'Subibi', 'Berondo', 'Four']\n",
      "John\n",
      "['Subibi', 'Berondo', 'Four']\n"
     ]
    }
   ],
   "source": [
    "print(\"\")\n",
    "print(\"Implement a queue using linked lists.\")\n",
    "print(\"\")\n",
    "queue = [\"Client\", \"John\", \"Subibi\"]\n",
    "queue.append(\"Berondo\")\n",
    "queue.append(\"Four\")\n",
    "print(queue)\n",
    "  \n",
    "# Removes the first item\n",
    "print(queue.pop(0))\n",
    "  \n",
    "print(queue)\n",
    "  \n",
    "# Removes the first item\n",
    "print(queue.pop(0))\n",
    "  \n",
    "print(queue)\n",
    "\n"
   ]
  },
  {
   "cell_type": "code",
   "execution_count": 12,
   "id": "soviet-patrol",
   "metadata": {},
   "outputs": [
    {
     "name": "stdout",
     "output_type": "stream",
     "text": [
      "\n",
      "Write a recursive function to compute the factorial of a number.\n",
      "\n",
      "The factorial of 10 is 3628800\n"
     ]
    }
   ],
   "source": [
    "print(\"\")\n",
    "print(\"Write a recursive function to compute the factorial of a number.\")\n",
    "print(\"\")\n",
    "\n",
    "def recur_factorial(n):\n",
    "   if n == 1:\n",
    "       return n\n",
    "   else:\n",
    "       return n*recur_factorial(n-1)\n",
    "\n",
    "num = 10\n",
    "\n",
    "\n",
    "print(\"The factorial of\", num, \"is\", recur_factorial(num))\n",
    "\n",
    "\n"
   ]
  },
  {
   "cell_type": "code",
   "execution_count": 9,
   "id": "musical-genealogy",
   "metadata": {},
   "outputs": [
    {
     "name": "stdout",
     "output_type": "stream",
     "text": [
      "\n",
      "Set up a random experiment to test the difference between a sequential search and a binary search on a list of integers.\n",
      "\n",
      "Element is present at index 3\n",
      "(True, 3)\n"
     ]
    }
   ],
   "source": [
    "print(\"\")\n",
    "print(\"Set up a random experiment to test the difference between a sequential search and a binary search on a list of integers.\")\n",
    "print(\"\")\n",
    "def binary_search(arr, low, high, x):\n",
    " \n",
    "    # Check base case\n",
    "    if high >= low:\n",
    " \n",
    "        mid = (high + low) // 2\n",
    " \n",
    "        # If element is present at the middle itself\n",
    "        if arr[mid] == x:\n",
    "            return mid\n",
    " \n",
    "        # If element is smaller than mid, then it can only\n",
    "        # be present in left subarray\n",
    "        elif arr[mid] > x:\n",
    "            return binary_search(arr, low, mid - 1, x)\n",
    " \n",
    "        # Else the element can only be present in right subarray\n",
    "        else:\n",
    "            return binary_search(arr, mid + 1, high, x)\n",
    " \n",
    "    else:\n",
    "        # Element is not present in the array\n",
    "        return -1\n",
    " \n",
    "# Test array\n",
    "arr = [ 2, 3, 4, 10, 40 ]\n",
    "x = 10\n",
    " \n",
    "# Function call\n",
    "result = binary_search(arr, 0, len(arr)-1, x)\n",
    " \n",
    "if result != -1:\n",
    "    print(\"Element is present at index\", str(result))\n",
    "else:\n",
    "    print(\"Element is not present in array\")\n",
    "\n",
    "\n",
    "def Sequential_Search(dlist, item):\n",
    "\n",
    "    pos = 0\n",
    "    found = False\n",
    "    \n",
    "    while pos < len(dlist) and not found:\n",
    "        if dlist[pos] == item:\n",
    "            found = True\n",
    "        else:\n",
    "            pos = pos + 1\n",
    "    \n",
    "    return found, pos\n",
    "\n",
    "print(Sequential_Search([11,23,58,31,56,77,43,12,65,19],31))\n"
   ]
  },
  {
   "cell_type": "code",
   "execution_count": 10,
   "id": "asian-heaven",
   "metadata": {},
   "outputs": [
    {
     "name": "stdout",
     "output_type": "stream",
     "text": [
      "\n",
      "Suppose you are a computer scientist/art thief who has broken into a major art gallery. All you have with you to haul out your stolen art is your knapsack which only holds W pounds of art, but for every piece of art you know its value and its weight. Write a dynamic programming function to help you maximize your profit. Here is a sample problem for you to use to get started: Suppose your knapsack can hold a total weight of 20. \n",
      "\n",
      "8\n"
     ]
    }
   ],
   "source": [
    "print(\"\")\n",
    "print(\"Suppose you are a computer scientist/art thief who has broken into a major art gallery. All you have with you to haul out your stolen art is your knapsack which only holds W pounds of art, but for every piece of art you know its value and its weight. Write a dynamic programming function to help you maximize your profit. Here is a sample problem for you to use to get started: Suppose your knapsack can hold a total weight of 20. \")\n",
    "print(\"\")\n",
    "def knapSack(W, wt, val, n):\n",
    "\n",
    "\t# Base Case\n",
    "\tif n == 0 or W == 0:\n",
    "\t\treturn 0\n",
    "\n",
    "\t# If weight of the nth item is\n",
    "\t# more than Knapsack of capacity W,\n",
    "\t# then this item cannot be included\n",
    "\t# in the optimal solution\n",
    "\tif (wt[n-1] > W):\n",
    "\t\treturn knapSack(W, wt, val, n-1)\n",
    "\n",
    "\t# return the maximum of two cases:\n",
    "\t# (1) nth item included\n",
    "\t# (2) not included\n",
    "\telse:\n",
    "\t\treturn max(\n",
    "\t\t\tval[n-1] + knapSack(\n",
    "\t\t\t\tW-wt[n-1], wt, val, n-1),\n",
    "\t\t\tknapSack(W, wt, val, n-1))\n",
    "\n",
    "# end of function knapSack\n",
    "\n",
    "\n",
    "#Driver Code\n",
    "val = [3, 4, 8,8,10]\n",
    "wt = [2, 3, 4,5,9]\n",
    "W = 5\n",
    "n = len(val)\n",
    "print (knapSack(W, wt, val, n))\n",
    "\n",
    "# This code is contributed by Nikhil Kumar Singh\n"
   ]
  },
  {
   "cell_type": "code",
   "execution_count": null,
   "id": "responsible-binary",
   "metadata": {},
   "outputs": [],
   "source": []
  }
 ],
 "metadata": {
  "kernelspec": {
   "display_name": "Python 3",
   "language": "python",
   "name": "python3"
  },
  "language_info": {
   "codemirror_mode": {
    "name": "ipython",
    "version": 3
   },
   "file_extension": ".py",
   "mimetype": "text/x-python",
   "name": "python",
   "nbconvert_exporter": "python",
   "pygments_lexer": "ipython3",
   "version": "3.9.2"
  }
 },
 "nbformat": 4,
 "nbformat_minor": 5
}
